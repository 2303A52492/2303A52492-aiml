{
  "nbformat": 4,
  "nbformat_minor": 0,
  "metadata": {
    "colab": {
      "provenance": [],
      "authorship_tag": "ABX9TyPtGPUofb4r1CCcGpE3amha",
      "include_colab_link": true
    },
    "kernelspec": {
      "name": "python3",
      "display_name": "Python 3"
    },
    "language_info": {
      "name": "python"
    }
  },
  "cells": [
    {
      "cell_type": "markdown",
      "metadata": {
        "id": "view-in-github",
        "colab_type": "text"
      },
      "source": [
        "<a href=\"https://colab.research.google.com/github/2303A52492/2303A52492-aiml/blob/main/Types%20of%20List(AS-1).ipynb\" target=\"_parent\"><img src=\"https://colab.research.google.com/assets/colab-badge.svg\" alt=\"Open In Colab\"/></a>"
      ]
    },
    {
      "cell_type": "code",
      "execution_count": null,
      "metadata": {
        "id": "3Vt-lZOJsO_L"
      },
      "outputs": [],
      "source": []
    },
    {
      "cell_type": "markdown",
      "source": [
        "## Implement Basic DataStructure using Numpy and Pandas\n"
      ],
      "metadata": {
        "id": "IuOWCP-osYEp"
      }
    },
    {
      "cell_type": "code",
      "source": [
        "lst=[2,6,1,8,6]\n",
        "print(lst)\n",
        "print(type(lst))"
      ],
      "metadata": {
        "colab": {
          "base_uri": "https://localhost:8080/"
        },
        "id": "nMY2eVXWtgaG",
        "outputId": "47077ca9-b354-4489-bc91-d9372f73d135"
      },
      "execution_count": null,
      "outputs": [
        {
          "output_type": "stream",
          "name": "stdout",
          "text": [
            "[2, 6, 1, 8, 6]\n",
            "<class 'list'>\n"
          ]
        }
      ]
    },
    {
      "cell_type": "code",
      "source": [
        "lst1=(1,2,3,4,5)\n",
        "print(lst1)\n",
        "print(type(lst1))"
      ],
      "metadata": {
        "colab": {
          "base_uri": "https://localhost:8080/"
        },
        "id": "OKo-i5w_t1Wd",
        "outputId": "c4ac6dc4-cbda-4ce0-85bf-975214f0f655"
      },
      "execution_count": null,
      "outputs": [
        {
          "output_type": "stream",
          "name": "stdout",
          "text": [
            "(1, 2, 3, 4, 5)\n",
            "<class 'tuple'>\n"
          ]
        }
      ]
    },
    {
      "cell_type": "code",
      "source": [
        "lst1={1,2,3,4,5}\n",
        "print(lst1)\n",
        "print(type(lst1))"
      ],
      "metadata": {
        "colab": {
          "base_uri": "https://localhost:8080/"
        },
        "id": "diFzt0oOuSN3",
        "outputId": "4245ccd2-fcda-4d71-ea9d-99322dfc730f"
      },
      "execution_count": null,
      "outputs": [
        {
          "output_type": "stream",
          "name": "stdout",
          "text": [
            "{1, 2, 3, 4, 5}\n",
            "<class 'set'>\n"
          ]
        }
      ]
    },
    {
      "cell_type": "code",
      "source": [
        "lst1={1:\"A\",2:\"B\",3:\"C\",4:\"D\",5:\"E\"}\n",
        "print(lst1)\n",
        "print(type(lst1))\n"
      ],
      "metadata": {
        "colab": {
          "base_uri": "https://localhost:8080/"
        },
        "id": "S2QQI1IJuXcK",
        "outputId": "a96e1dd9-799c-408a-d97c-ac6aab6279ae"
      },
      "execution_count": null,
      "outputs": [
        {
          "output_type": "stream",
          "name": "stdout",
          "text": [
            "{1: 'A', 2: 'B', 3: 'C', 4: 'D', 5: 'E'}\n",
            "<class 'dict'>\n"
          ]
        }
      ]
    },
    {
      "cell_type": "code",
      "source": [
        "lst2=(\"welcome to AIML\")\n",
        "print(lst2)\n",
        "print(type(lst2))"
      ],
      "metadata": {
        "colab": {
          "base_uri": "https://localhost:8080/"
        },
        "id": "3826zW0SuqtF",
        "outputId": "114c9b41-46be-4e01-f715-a2b9ff3c7fb6"
      },
      "execution_count": null,
      "outputs": [
        {
          "output_type": "stream",
          "name": "stdout",
          "text": [
            "welcome to AIML\n",
            "<class 'str'>\n"
          ]
        }
      ]
    },
    {
      "cell_type": "code",
      "source": [
        "lst3=3.4\n",
        "print(lst3)\n",
        "print(type(lst3))"
      ],
      "metadata": {
        "colab": {
          "base_uri": "https://localhost:8080/"
        },
        "id": "FbFUMRa4u-F4",
        "outputId": "6afa36fc-540b-47f8-ce4e-5583135ebe86"
      },
      "execution_count": null,
      "outputs": [
        {
          "output_type": "stream",
          "name": "stdout",
          "text": [
            "3.4\n",
            "<class 'float'>\n"
          ]
        }
      ]
    },
    {
      "cell_type": "code",
      "source": [
        "lst4=3j+6\n",
        "print(lst4)\n",
        "print(type(lst4))"
      ],
      "metadata": {
        "colab": {
          "base_uri": "https://localhost:8080/"
        },
        "id": "teaFj4X3vqUt",
        "outputId": "14d0cb8b-6e40-4732-f196-a60ea51073ef"
      },
      "execution_count": null,
      "outputs": [
        {
          "output_type": "stream",
          "name": "stdout",
          "text": [
            "(6+3j)\n",
            "<class 'complex'>\n"
          ]
        }
      ]
    },
    {
      "cell_type": "code",
      "source": [],
      "metadata": {
        "id": "hJyuKNzHvt-X"
      },
      "execution_count": null,
      "outputs": []
    },
    {
      "cell_type": "code",
      "source": [
        "# Importing required libraries\n",
        "import numpy as np\n",
        "import pandas as pd\n",
        "\n",
        "# 1. Lists\n",
        "list1 = [1, 2, 3, 4, 5]\n",
        "list2 = [6, 7, 8, 9, 10]\n",
        "\n",
        "# 2. Arrays\n",
        "array1 = np.array(list1)\n",
        "array2 = np.array(list2)\n",
        "\n",
        "# 3. Identify their type using type()\n",
        "print(f\"Type of list1: {type(list1)}\")\n",
        "print(f\"Type of list2: {type(list2)}\")\n",
        "print(f\"Type of array1: {type(array1)}\")\n",
        "print(f\"Type of array2: {type(array2)}\")\n",
        "\n",
        "# 4. Perform mathematical operations on these datasets\n",
        "# Multiplication\n",
        "mul_result = array1 * array2\n",
        "print(f\"Multiplication result: {mul_result}\")\n",
        "\n",
        "# Division\n",
        "div_result = array1 / array2\n",
        "print(f\"Division result: {div_result}\")\n",
        "\n",
        "# Power\n",
        "pow_result = np.power(array1, 2)\n",
        "print(f\"Power result: {pow_result}\")\n",
        "\n",
        "# 5. Combine text with Numpy function to generate a textual output\n",
        "addition_result = array1 + array2\n",
        "print(f\"Addition of Two: {addition_result}\")\n",
        "\n",
        "# 6. Implement np.sin(), log(), log2(), np.exp()\n",
        "sin_result = np.sin(array1)\n",
        "print(f\"Sine result: {sin_result}\")\n",
        "\n",
        "log_result = np.log(array1)\n",
        "print(f\"Log result: {log_result}\")\n",
        "\n",
        "log2_result = np.log2(array1)\n",
        "print(f\"Log2 result: {log2_result}\")\n",
        "\n",
        "exp_result = np.exp(array1)\n",
        "print(f\"Exponential result: {exp_result}\")\n",
        "\n",
        "# Additional Pandas operations for completeness\n",
        "# Creating a DataFrame\n",
        "df = pd.DataFrame({'Column1': array1, 'Column2': array2})\n",
        "\n",
        "# Displaying the DataFrame\n",
        "print(\"DataFrame:\")\n",
        "print(df)\n",
        "\n",
        "# Performing operations on DataFrame\n",
        "df['Multiplication'] = df['Column1'] * df['Column2']\n",
        "df['Division'] = df['Column1'] / df['Column2']\n",
        "df['Power'] = np.power(df['Column1'], 2)\n",
        "\n",
        "# Displaying the DataFrame with new columns\n",
        "print(\"DataFrame with operations:\")\n",
        "print(df)\n"
      ],
      "metadata": {
        "colab": {
          "base_uri": "https://localhost:8080/"
        },
        "id": "fQDTCBgO89nD",
        "outputId": "8b587a81-86a6-4590-81b6-8932b81418fe"
      },
      "execution_count": null,
      "outputs": [
        {
          "output_type": "stream",
          "name": "stdout",
          "text": [
            "Type of list1: <class 'list'>\n",
            "Type of list2: <class 'list'>\n",
            "Type of array1: <class 'numpy.ndarray'>\n",
            "Type of array2: <class 'numpy.ndarray'>\n",
            "Multiplication result: [ 6 14 24 36 50]\n",
            "Division result: [0.16666667 0.28571429 0.375      0.44444444 0.5       ]\n",
            "Power result: [ 1  4  9 16 25]\n",
            "Addition of Two: [ 7  9 11 13 15]\n",
            "Sine result: [ 0.84147098  0.90929743  0.14112001 -0.7568025  -0.95892427]\n",
            "Log result: [0.         0.69314718 1.09861229 1.38629436 1.60943791]\n",
            "Log2 result: [0.         1.         1.5849625  2.         2.32192809]\n",
            "Exponential result: [  2.71828183   7.3890561   20.08553692  54.59815003 148.4131591 ]\n",
            "DataFrame:\n",
            "   Column1  Column2\n",
            "0        1        6\n",
            "1        2        7\n",
            "2        3        8\n",
            "3        4        9\n",
            "4        5       10\n",
            "DataFrame with operations:\n",
            "   Column1  Column2  Multiplication  Division  Power\n",
            "0        1        6               6  0.166667      1\n",
            "1        2        7              14  0.285714      4\n",
            "2        3        8              24  0.375000      9\n",
            "3        4        9              36  0.444444     16\n",
            "4        5       10              50  0.500000     25\n"
          ]
        }
      ]
    }
  ]
}